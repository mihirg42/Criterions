{
 "cells": [
  {
   "cell_type": "markdown",
   "id": "c6f57ce2",
   "metadata": {},
   "source": [
    "# Importing libraries and dataset"
   ]
  },
  {
   "cell_type": "code",
   "execution_count": 1,
   "id": "f4228777",
   "metadata": {},
   "outputs": [],
   "source": [
    "import pandas as pd\n",
    "import numpy as np\n",
    "import matplotlib.pyplot as plt"
   ]
  },
  {
   "cell_type": "code",
   "execution_count": 2,
   "id": "d10ce5cb",
   "metadata": {},
   "outputs": [],
   "source": [
    "df = pd.read_csv(\"data1.csv\")"
   ]
  },
  {
   "cell_type": "markdown",
   "id": "a5a534a6",
   "metadata": {},
   "source": [
    "# Analysing the dataset"
   ]
  },
  {
   "cell_type": "code",
   "execution_count": 3,
   "id": "31c16f72",
   "metadata": {},
   "outputs": [
    {
     "data": {
      "text/html": [
       "<div>\n",
       "<style scoped>\n",
       "    .dataframe tbody tr th:only-of-type {\n",
       "        vertical-align: middle;\n",
       "    }\n",
       "\n",
       "    .dataframe tbody tr th {\n",
       "        vertical-align: top;\n",
       "    }\n",
       "\n",
       "    .dataframe thead th {\n",
       "        text-align: right;\n",
       "    }\n",
       "</style>\n",
       "<table border=\"1\" class=\"dataframe\">\n",
       "  <thead>\n",
       "    <tr style=\"text-align: right;\">\n",
       "      <th></th>\n",
       "      <th>x</th>\n",
       "      <th>y</th>\n",
       "    </tr>\n",
       "  </thead>\n",
       "  <tbody>\n",
       "    <tr>\n",
       "      <th>0</th>\n",
       "      <td>9.336641</td>\n",
       "      <td>25.504414</td>\n",
       "    </tr>\n",
       "    <tr>\n",
       "      <th>1</th>\n",
       "      <td>2.475479</td>\n",
       "      <td>23.514671</td>\n",
       "    </tr>\n",
       "    <tr>\n",
       "      <th>2</th>\n",
       "      <td>2.646929</td>\n",
       "      <td>23.321827</td>\n",
       "    </tr>\n",
       "    <tr>\n",
       "      <th>3</th>\n",
       "      <td>6.023428</td>\n",
       "      <td>25.108528</td>\n",
       "    </tr>\n",
       "    <tr>\n",
       "      <th>4</th>\n",
       "      <td>1.834002</td>\n",
       "      <td>23.099934</td>\n",
       "    </tr>\n",
       "  </tbody>\n",
       "</table>\n",
       "</div>"
      ],
      "text/plain": [
       "          x          y\n",
       "0  9.336641  25.504414\n",
       "1  2.475479  23.514671\n",
       "2  2.646929  23.321827\n",
       "3  6.023428  25.108528\n",
       "4  1.834002  23.099934"
      ]
     },
     "execution_count": 3,
     "metadata": {},
     "output_type": "execute_result"
    }
   ],
   "source": [
    "df.head()"
   ]
  },
  {
   "cell_type": "code",
   "execution_count": 4,
   "id": "1276dbe8",
   "metadata": {},
   "outputs": [
    {
     "data": {
      "text/plain": [
       "(100, 2)"
      ]
     },
     "execution_count": 4,
     "metadata": {},
     "output_type": "execute_result"
    }
   ],
   "source": [
    "df.shape"
   ]
  },
  {
   "cell_type": "code",
   "execution_count": 5,
   "id": "d7c70116",
   "metadata": {},
   "outputs": [],
   "source": [
    "y = df[\"y\"]\n",
    "x = df[\"x\"]"
   ]
  },
  {
   "cell_type": "code",
   "execution_count": 6,
   "id": "2936438a",
   "metadata": {},
   "outputs": [
    {
     "data": {
      "image/png": "[encoded data removed]",
      "text/plain": [
       "<Figure size 432x288 with 1 Axes>"
      ]
     },
     "metadata": {
      "needs_background": "light"
     },
     "output_type": "display_data"
    }
   ],
   "source": [
    "plt.scatter(x, y)\n",
    "\n",
    "plt.show()"
   ]
  },
  {
   "cell_type": "markdown",
   "id": "c0b723f6",
   "metadata": {},
   "source": [
    "# Linear regression"
   ]
  },
  {
   "cell_type": "code",
   "execution_count": 7,
   "id": "459d8634",
   "metadata": {},
   "outputs": [],
   "source": [
    "theta = np.array([1.0, 0])                    # array of parameters\n",
    "def h(i, theta):                               # function for predicting data \n",
    "    return x[i]*theta[0] + theta[1]"
   ]
  },
  {
   "cell_type": "markdown",
   "id": "fd986f90",
   "metadata": {},
   "source": [
    "## $|X - \\hat{x}|^3$"
   ]
  },
  {
   "cell_type": "markdown",
   "id": "5461721f",
   "metadata": {},
   "source": [
    "**Initialising hyperparameters**"
   ]
  },
  {
   "cell_type": "code",
   "execution_count": 8,
   "id": "a53a9fec",
   "metadata": {},
   "outputs": [],
   "source": [
    "alpha = 0.00002\n",
    "iters = 10000"
   ]
  },
  {
   "cell_type": "markdown",
   "id": "ff6725b1",
   "metadata": {},
   "source": [
    "**Model Fitting via gradient descent**"
   ]
  },
  {
   "cell_type": "code",
   "execution_count": 9,
   "id": "3fe3e7ec",
   "metadata": {},
   "outputs": [],
   "source": [
    "for k in range(iters):\n",
    "    for j in range(2):\n",
    "        sum1 = 0.0\n",
    "        for i in range(len(x)):\n",
    "            dif = h(i, theta) - y[i]\n",
    "            if(j == 0):\n",
    "                if(dif >= 0):\n",
    "                    sum1 += (x[i])*(dif**2)\n",
    "                else:\n",
    "                    sum1 -= (x[i])*(dif**2)\n",
    "            else:\n",
    "                if(dif >= 0):\n",
    "                    sum1 += (dif**2)\n",
    "                else:\n",
    "                    sum1 -= (dif**2)\n",
    "        theta[j] = theta[j] - alpha*sum1\n",
    "#         print(theta[j])\n",
    "        sum1 = 0.0"
   ]
  },
  {
   "cell_type": "code",
   "execution_count": 10,
   "id": "96fb57f5",
   "metadata": {},
   "outputs": [
    {
     "name": "stdout",
     "output_type": "stream",
     "text": [
      "[ 0.26450313 22.81177475]\n"
     ]
    }
   ],
   "source": [
    "print(theta)"
   ]
  },
  {
   "cell_type": "code",
   "execution_count": 11,
   "id": "ea0fd2ab",
   "metadata": {},
   "outputs": [],
   "source": [
    "h1 = np.empty([len(df.index)])\n",
    "for i in df.index:\n",
    "    h1[i] = h(i, theta)"
   ]
  },
  {
   "cell_type": "markdown",
   "id": "f416dc0c",
   "metadata": {},
   "source": [
    "**Comparision with Actual Data**"
   ]
  },
  {
   "cell_type": "code",
   "execution_count": 12,
   "id": "4bcef995",
   "metadata": {},
   "outputs": [
    {
     "data": {
      "image/png": "[encoded data removed]",
      "text/plain": [
       "<Figure size 432x288 with 1 Axes>"
      ]
     },
     "metadata": {
      "needs_background": "light"
     },
     "output_type": "display_data"
    }
   ],
   "source": [
    "plt.scatter(x, y)\n",
    "plt.scatter(x, h1, c = \"red\")\n",
    "plt.legend([\"Actual Values\", \"Predicted values\"])\n",
    "\n",
    "plt.show()"
   ]
  },
  {
   "cell_type": "code",
   "execution_count": 13,
   "id": "b6d707fc",
   "metadata": {},
   "outputs": [
    {
     "name": "stdout",
     "output_type": "stream",
     "text": [
      "MSE: 0.26664404675582154\n"
     ]
    }
   ],
   "source": [
    "sum = 0\n",
    "for i in df.index:\n",
    "    sum+=((h1[i] - y[i]))**2\n",
    "error = np.empty(4)\n",
    "error[0] = sum/len(x)\n",
    "print(\"MSE:\", sum/len(x))"
   ]
  },
  {
   "cell_type": "markdown",
   "id": "696caa24",
   "metadata": {},
   "source": [
    "##  $|X - \\hat{x}|$\n"
   ]
  },
  {
   "cell_type": "markdown",
   "id": "1200511f",
   "metadata": {},
   "source": [
    "**Initialising hyperparameters**"
   ]
  },
  {
   "cell_type": "code",
   "execution_count": 14,
   "id": "246c66ce",
   "metadata": {},
   "outputs": [],
   "source": [
    "alpha = 0.0002\n",
    "iters = 10000"
   ]
  },
  {
   "cell_type": "code",
   "execution_count": 15,
   "id": "c3a2f94e",
   "metadata": {},
   "outputs": [],
   "source": [
    "theta = np.array([1.0, 0])"
   ]
  },
  {
   "cell_type": "markdown",
   "id": "23af2fc1",
   "metadata": {},
   "source": [
    "**Model Fitting via gradient descent**"
   ]
  },
  {
   "cell_type": "code",
   "execution_count": 16,
   "id": "e28bb0d4",
   "metadata": {},
   "outputs": [],
   "source": [
    "for k in range(iters):\n",
    "    for j in range(2):\n",
    "        sum1 = 0.0\n",
    "        for i in x.index:\n",
    "            dif = h(i, theta) - y[i]\n",
    "            if(j == 0):\n",
    "                if(dif >= 0):\n",
    "                    sum1 += (x[i])\n",
    "                else:\n",
    "                    sum1 -= (x[i])\n",
    "            else:\n",
    "                if(dif >= 0):\n",
    "                    sum1 += 1\n",
    "                else:\n",
    "                    sum1 -= 1\n",
    "#         print(theta[j])\n",
    "        theta[j] = theta[j] - alpha*sum1\n",
    "        sum1 = 0.0"
   ]
  },
  {
   "cell_type": "code",
   "execution_count": 17,
   "id": "4ad6ae24",
   "metadata": {},
   "outputs": [
    {
     "name": "stdout",
     "output_type": "stream",
     "text": [
      "[ 0.2593792 22.8508   ]\n"
     ]
    }
   ],
   "source": [
    "print(theta)"
   ]
  },
  {
   "cell_type": "code",
   "execution_count": 18,
   "id": "4ad5e11f",
   "metadata": {},
   "outputs": [],
   "source": [
    "h1 = np.empty([len(df.index)])\n",
    "for i in df.index:\n",
    "    h1[i] = h(i, theta)"
   ]
  },
  {
   "cell_type": "markdown",
   "id": "cb6217c6",
   "metadata": {},
   "source": [
    "**Comparision with Actual Data**"
   ]
  },
  {
   "cell_type": "code",
   "execution_count": 19,
   "id": "ece61ac4",
   "metadata": {},
   "outputs": [
    {
     "data": {
      "image/png": "[encoded data removed]",
      "text/plain": [
       "<Figure size 432x288 with 1 Axes>"
      ]
     },
     "metadata": {
      "needs_background": "light"
     },
     "output_type": "display_data"
    }
   ],
   "source": [
    "plt.scatter(x, y)\n",
    "plt.scatter(x, h1, c = \"red\")\n",
    "plt.legend([\"Actual Values\", \"Predicted values\"])\n",
    "\n",
    "plt.show()"
   ]
  },
  {
   "cell_type": "code",
   "execution_count": 20,
   "id": "e2171e4d",
   "metadata": {},
   "outputs": [
    {
     "name": "stdout",
     "output_type": "stream",
     "text": [
      "MSE: 0.265566599519369\n"
     ]
    }
   ],
   "source": [
    "sum = 0\n",
    "for i in df.index:\n",
    "    sum+=((h1[i] - y[i]))**2\n",
    "error[1] = sum/len(x)\n",
    "print(\"MSE:\", sum/len(x))"
   ]
  },
  {
   "cell_type": "markdown",
   "id": "823ca6fe",
   "metadata": {},
   "source": [
    "# Polynomial regression"
   ]
  },
  {
   "cell_type": "code",
   "execution_count": 21,
   "id": "390fb308",
   "metadata": {},
   "outputs": [],
   "source": [
    "theta = np.array([0.5, 1.0, 15.0])                                  # array of parameters\n",
    "def h(i, theta):                                                    # function for predicting data \n",
    "    return theta[0]*x[i]*x[i] + theta[1]*x[i] + theta[2]"
   ]
  },
  {
   "cell_type": "markdown",
   "id": "d7688169",
   "metadata": {},
   "source": [
    "## $|X - \\hat{x}|^4$\n"
   ]
  },
  {
   "cell_type": "markdown",
   "id": "5f2a2634",
   "metadata": {},
   "source": [
    "**Initialising hyperparameters**"
   ]
  },
  {
   "cell_type": "code",
   "execution_count": 22,
   "id": "16920313",
   "metadata": {},
   "outputs": [],
   "source": [
    "alpha = 0.000000006\n",
    "iters = 100000"
   ]
  },
  {
   "cell_type": "markdown",
   "id": "4ebaac56",
   "metadata": {},
   "source": [
    "**Model Fitting via gradient descent**"
   ]
  },
  {
   "cell_type": "code",
   "execution_count": 23,
   "id": "1dfe9f61",
   "metadata": {},
   "outputs": [],
   "source": [
    "for k in range(iters):\n",
    "    for j in range(3):\n",
    "        sum1 = 0.0\n",
    "        for i in x.index:\n",
    "            dif = h(i, theta) - y[i]\n",
    "            if(j == 0):\n",
    "                sum1 += ((x[i])**2)*((dif)**3)\n",
    "            elif(j == 1):\n",
    "                sum1 += ((x[i]))*((dif)**3)\n",
    "            elif(j == 2):\n",
    "                sum1 += ((dif)**3)\n",
    "            \n",
    "#         print(theta[j])\n",
    "        theta[j] = theta[j] - alpha*sum1\n",
    "        sum1 = 0.0"
   ]
  },
  {
   "cell_type": "code",
   "execution_count": 24,
   "id": "f9d87d02",
   "metadata": {},
   "outputs": [
    {
     "name": "stdout",
     "output_type": "stream",
     "text": [
      "[-0.18956809  2.64631884 16.45035288]\n"
     ]
    }
   ],
   "source": [
    "print(theta)"
   ]
  },
  {
   "cell_type": "code",
   "execution_count": 25,
   "id": "740946f6",
   "metadata": {},
   "outputs": [],
   "source": [
    "h1 = np.empty([len(df.index)])\n",
    "for i in df.index:\n",
    "    h1[i] = h(i, theta)"
   ]
  },
  {
   "cell_type": "markdown",
   "id": "b49b7759",
   "metadata": {},
   "source": [
    "**Comparision with Actual Data**"
   ]
  },
  {
   "cell_type": "code",
   "execution_count": 26,
   "id": "47560f83",
   "metadata": {},
   "outputs": [
    {
     "data": {
      "image/png": "[encoded data removed]",
      "text/plain": [
       "<Figure size 432x288 with 1 Axes>"
      ]
     },
     "metadata": {
      "needs_background": "light"
     },
     "output_type": "display_data"
    }
   ],
   "source": [
    "plt.scatter(x, y)\n",
    "plt.scatter(x, h1, c = \"red\")\n",
    "plt.legend([\"Actual Values\", \"Predicted values\"])\n",
    "\n",
    "plt.show()"
   ]
  },
  {
   "cell_type": "code",
   "execution_count": 27,
   "id": "db4a960d",
   "metadata": {},
   "outputs": [
    {
     "name": "stdout",
     "output_type": "stream",
     "text": [
      "MSE: 3.3929768563301583\n"
     ]
    }
   ],
   "source": [
    "sum = 0\n",
    "for i in df.index:\n",
    "    sum+= (h1[i] - y[i])**2\n",
    "error[2] = sum/len(x)\n",
    "print(\"MSE:\", sum/len(x))"
   ]
  },
  {
   "cell_type": "markdown",
   "id": "34dbb89b",
   "metadata": {},
   "source": [
    "## $|X - \\hat{x}|^7$"
   ]
  },
  {
   "cell_type": "markdown",
   "id": "8a93c3f3",
   "metadata": {},
   "source": [
    "**Initialising hyperparameters**"
   ]
  },
  {
   "cell_type": "code",
   "execution_count": 28,
   "id": "206acd95",
   "metadata": {},
   "outputs": [],
   "source": [
    "alpha = 0.00000000000004\n",
    "iters = 100000\n",
    "theta = np.array([0.5, 1.0, 15.0])"
   ]
  },
  {
   "cell_type": "markdown",
   "id": "d9d411f1",
   "metadata": {},
   "source": [
    "**Model Fitting via gradient descent**"
   ]
  },
  {
   "cell_type": "code",
   "execution_count": 29,
   "id": "baa32a7f",
   "metadata": {},
   "outputs": [],
   "source": [
    "for k in range(iters):\n",
    "    for j in range(3):\n",
    "        sum1 = 0.0\n",
    "        for i in x.index:\n",
    "            dif = h(i, theta) - y[i]\n",
    "            if(j == 0):\n",
    "                if(dif > 0):\n",
    "                    sum1 += ((x[i])**2)*((dif)**6)\n",
    "                else:\n",
    "                    sum1 -= ((x[i])**2)*((dif)**6)\n",
    "            elif(j == 1):\n",
    "                if(dif > 0):\n",
    "                    sum1 += ((x[i]))*((dif)**6)\n",
    "                else:\n",
    "                    sum1 -= ((x[i]))*((dif)**6)\n",
    "            elif(j == 2):\n",
    "                if(dif > 0):\n",
    "                    sum1 += ((dif)**6)\n",
    "                else:\n",
    "                    sum1 -= ((dif)**6)            \n",
    "#         print(theta[j])\n",
    "        theta[j] = theta[j] - alpha*sum1\n",
    "        sum1 = 0.0"
   ]
  },
  {
   "cell_type": "code",
   "execution_count": 30,
   "id": "52116db0",
   "metadata": {},
   "outputs": [
    {
     "name": "stdout",
     "output_type": "stream",
     "text": [
      "[ 0.05057427  1.01150615 15.00874361]\n"
     ]
    }
   ],
   "source": [
    "print(theta)"
   ]
  },
  {
   "cell_type": "code",
   "execution_count": 31,
   "id": "4ba201f5",
   "metadata": {},
   "outputs": [],
   "source": [
    "h1 = np.empty([len(df.index)])\n",
    "for i in df.index:\n",
    "    h1[i] = h(i, theta)"
   ]
  },
  {
   "cell_type": "markdown",
   "id": "0d7d86f6",
   "metadata": {},
   "source": [
    "**Comparision with Actual Data**"
   ]
  },
  {
   "cell_type": "code",
   "execution_count": 32,
   "id": "41de3a1c",
   "metadata": {},
   "outputs": [
    {
     "data": {
      "image/png": "[encoded data removed]",
      "text/plain": [
       "<Figure size 432x288 with 1 Axes>"
      ]
     },
     "metadata": {
      "needs_background": "light"
     },
     "output_type": "display_data"
    }
   ],
   "source": [
    "plt.scatter(x, y)\n",
    "plt.scatter(x, h1, c = \"red\")\n",
    "plt.legend([\"Actual Values\", \"Predicted values\"])\n",
    "\n",
    "plt.show()"
   ]
  },
  {
   "cell_type": "code",
   "execution_count": 33,
   "id": "c47e9404",
   "metadata": {},
   "outputs": [
    {
     "name": "stdout",
     "output_type": "stream",
     "text": [
      "MSE: 18.289051379782226\n"
     ]
    }
   ],
   "source": [
    "sum = 0\n",
    "for i in df.index:\n",
    "    sum+=(h1[i] - y[i])**2\n",
    "error[3] = sum/len(x)\n",
    "print(\"MSE:\", sum/len(x))"
   ]
  },
  {
   "cell_type": "markdown",
   "id": "04c3acd9",
   "metadata": {},
   "source": [
    "# Wrapping Up"
   ]
  },
  {
   "cell_type": "code",
   "execution_count": 34,
   "id": "0901fde3",
   "metadata": {},
   "outputs": [
    {
     "data": {
      "image/png": "[encoded data removed]",
      "text/plain": [
       "<Figure size 432x288 with 1 Axes>"
      ]
     },
     "metadata": {
      "needs_background": "light"
     },
     "output_type": "display_data"
    },
    {
     "name": "stdout",
     "output_type": "stream",
     "text": [
      "[ 0.26664405  0.2655666   3.39297686 18.28905138]\n"
     ]
    }
   ],
   "source": [
    "plt.barh([\"|X - x|^3 with LR\", \"|X - x| with LR\", \"|X - x|^4 with PR\", \"|X - x|^7 with PR\"], error, color = \"green\")\n",
    "plt.title('MSE comparision of different cost functions')\n",
    "\n",
    "plt.show()\n",
    "print(error)"
   ]
  },
  {
   "cell_type": "markdown",
   "id": "f88cf3ec",
   "metadata": {},
   "source": [
    "<li>In Linear Regression, we see that the loss function $|X - \\hat{x}|$ and $|X - \\hat{x}|^3$ performs equally well.</li>\n",
    "<li>Whereas, in polynomial regression $|X - \\hat{x}|^4$ and $|X - \\hat{x}|^7$ do not give acceptable results even after $100,000$ iterations. But $|X - \\hat{x}|^4$ performs much better than $|X - \\hat{x}|^7$\n",
    "\n",
    "<li>Moreover, these models penalise the high values of variation more than that is required and the model is not trained properly."
   ]
  },
  {
   "cell_type": "markdown",
   "id": "9795b7bb",
   "metadata": {},
   "source": [
    "<h3>Therefore the order of usability of the loss functions is:</h3>\n",
    "<h3><center>$|X - \\hat{x}| \\simeq |X - \\hat{x}|^3 > |X - \\hat{x}|^4 > |X - \\hat{x}|^7$</h3></center>"
   ]
  }
 ],
 "metadata": {
  "kernelspec": {
   "display_name": "Python 3",
   "language": "python",
   "name": "python3"
  },
  "language_info": {
   "codemirror_mode": {
    "name": "ipython",
    "version": 3
   },
   "file_extension": ".py",
   "mimetype": "text/x-python",
   "name": "python",
   "nbconvert_exporter": "python",
   "pygments_lexer": "ipython3",
   "version": "3.9.5"
  }
 },
 "nbformat": 4,
 "nbformat_minor": 5
}
